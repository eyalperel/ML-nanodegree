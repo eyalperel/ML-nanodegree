{
 "cells": [
  {
   "cell_type": "code",
   "execution_count": 1,
   "metadata": {
    "collapsed": false
   },
   "outputs": [],
   "source": [
    "import pandas as pd\n",
    "import numpy as np\n",
    "import datetime as dt\n",
    "import sklearn"
   ]
  },
  {
   "cell_type": "markdown",
   "metadata": {},
   "source": [
    "In the following we will import the data for the currency pair EURGBP (resolution of 1-min OHLC data):"
   ]
  },
  {
   "cell_type": "code",
   "execution_count": 2,
   "metadata": {
    "collapsed": false
   },
   "outputs": [
    {
     "data": {
      "text/html": [
       "<div>\n",
       "<table border=\"1\" class=\"dataframe\">\n",
       "  <thead>\n",
       "    <tr style=\"text-align: right;\">\n",
       "      <th></th>\n",
       "      <th>Symbol</th>\n",
       "      <th>Date</th>\n",
       "      <th>Time</th>\n",
       "      <th>Open</th>\n",
       "      <th>High</th>\n",
       "      <th>Low</th>\n",
       "      <th>Close</th>\n",
       "    </tr>\n",
       "  </thead>\n",
       "  <tbody>\n",
       "    <tr>\n",
       "      <th>0</th>\n",
       "      <td>EURGBP</td>\n",
       "      <td>20090102</td>\n",
       "      <td>2100</td>\n",
       "      <td>0.9551</td>\n",
       "      <td>0.9551</td>\n",
       "      <td>0.9550</td>\n",
       "      <td>0.9550</td>\n",
       "    </tr>\n",
       "    <tr>\n",
       "      <th>1</th>\n",
       "      <td>EURGBP</td>\n",
       "      <td>20090104</td>\n",
       "      <td>2300</td>\n",
       "      <td>0.9545</td>\n",
       "      <td>0.9546</td>\n",
       "      <td>0.9545</td>\n",
       "      <td>0.9546</td>\n",
       "    </tr>\n",
       "    <tr>\n",
       "      <th>2</th>\n",
       "      <td>EURGBP</td>\n",
       "      <td>20090104</td>\n",
       "      <td>2301</td>\n",
       "      <td>0.9545</td>\n",
       "      <td>0.9545</td>\n",
       "      <td>0.9542</td>\n",
       "      <td>0.9543</td>\n",
       "    </tr>\n",
       "    <tr>\n",
       "      <th>3</th>\n",
       "      <td>EURGBP</td>\n",
       "      <td>20090104</td>\n",
       "      <td>2302</td>\n",
       "      <td>0.9544</td>\n",
       "      <td>0.9547</td>\n",
       "      <td>0.9544</td>\n",
       "      <td>0.9546</td>\n",
       "    </tr>\n",
       "    <tr>\n",
       "      <th>4</th>\n",
       "      <td>EURGBP</td>\n",
       "      <td>20090104</td>\n",
       "      <td>2303</td>\n",
       "      <td>0.9545</td>\n",
       "      <td>0.9548</td>\n",
       "      <td>0.9545</td>\n",
       "      <td>0.9548</td>\n",
       "    </tr>\n",
       "  </tbody>\n",
       "</table>\n",
       "</div>"
      ],
      "text/plain": [
       "   Symbol      Date  Time    Open    High     Low   Close\n",
       "0  EURGBP  20090102  2100  0.9551  0.9551  0.9550  0.9550\n",
       "1  EURGBP  20090104  2300  0.9545  0.9546  0.9545  0.9546\n",
       "2  EURGBP  20090104  2301  0.9545  0.9545  0.9542  0.9543\n",
       "3  EURGBP  20090104  2302  0.9544  0.9547  0.9544  0.9546\n",
       "4  EURGBP  20090104  2303  0.9545  0.9548  0.9545  0.9548"
      ]
     },
     "execution_count": 2,
     "metadata": {},
     "output_type": "execute_result"
    }
   ],
   "source": [
    "# importing data from file, omitting the volume data which is not reliable for Forex (as oposed to stocks)\n",
    "dfEURGBP = pd.read_csv(\"EURGBP_FT3.csv\",usecols = ['<DTYYYYMMDD>','<TICKER>', '<TIME>','<OPEN>', '<HIGH>', '<LOW>', '<CLOSE>'])\n",
    "#giving more significant names to the columns to work with\n",
    "d = {'<TICKER>':'Symbol','<TIME>':'Time','<OPEN>':'Open','<HIGH>':'High','<LOW>':'Low','<CLOSE>':'Close'}\n",
    "dfEURGBP.rename(columns = d , inplace = True)\n",
    "dfEURGBP.rename(columns = {'<DTYYYYMMDD>':'Date'}, inplace = True)\n",
    "dfEURGBP.head()"
   ]
  },
  {
   "cell_type": "markdown",
   "metadata": {},
   "source": [
    "In the following we will convert the 1-min data to daily data which will serve as the basis for our later analysis (prediciton models as well as benchmark simulation):"
   ]
  },
  {
   "cell_type": "code",
   "execution_count": 3,
   "metadata": {
    "collapsed": false
   },
   "outputs": [],
   "source": [
    "#creating a data frame that will hold the daily data\n",
    "start_date = dt.datetime.strptime(str(dfEURGBP.iloc[0]['Date']), '%Y%m%d')\n",
    "end_date = dt.datetime.strptime(str(dfEURGBP.iloc[len(dfEURGBP.index) - 1]['Date']), '%Y%m%d')\n",
    "dates = pd.date_range(start_date, end_date)\n",
    "dfDailyEURGBP = pd.DataFrame(index = dates)\n",
    "dfDailyEURGBP['Open'] = np.nan\n",
    "dfDailyEURGBP['High'] = np.nan\n",
    "dfDailyEURGBP['Low'] = np.nan\n",
    "dfDailyEURGBP['Close'] = np.nan"
   ]
  },
  {
   "cell_type": "code",
   "execution_count": 4,
   "metadata": {
    "collapsed": false
   },
   "outputs": [],
   "source": [
    "#calculating the daily OHLC prices using the groupby method for daily grouping. The daily high and low are the max and min prices\n",
    "#of the high and low columns per group (that is, per day) and the daily open and close are the average of the first and last\n",
    "# 5 minutes of each day, respectively\n",
    "dfGrouped = dfEURGBP.groupby('Date')\n",
    "for name, group in dfGrouped:\n",
    "    dailyOpenPrice =  group.head()['Open'].mean() #first 5 min of each day\n",
    "    dailyClosePrice = group.tail()['Close'].mean() #last 5 min of each day\n",
    "    dailyHighPrice = group.max()['High'] #the max of the high data (minute resolution) \n",
    "    dailyLowPrice = group.min()['Low'] #the min of the low data 9minute resolution)\n",
    "    convertedInd = np.datetime64(dt.datetime.strptime(str(name), '%Y%m%d'))\n",
    "    dfDailyEURGBP.ix[convertedInd, 'Open'] = dailyOpenPrice\n",
    "    dfDailyEURGBP.ix[convertedInd, 'Close'] = dailyClosePrice\n",
    "    dfDailyEURGBP.ix[convertedInd, 'High'] = dailyHighPrice\n",
    "    dfDailyEURGBP.ix[convertedInd, 'Low'] = dailyLowPrice\n",
    "#the dates that correspond to weekends will still contain NaN, and so are dropped from the dataframe\n",
    "dfDailyEURGBP.dropna(inplace = True)"
   ]
  },
  {
   "cell_type": "markdown",
   "metadata": {},
   "source": [
    "In the following we calculate the categories of return for each prediction period (1 day, 3 days, 7 days and 14 days) based on the data. This will serve as the true result. we need this tep since we are treating this problem as a classification problem and thus need the output variable (return at the end of the period) to be discrete and not continous.\n",
    "At the end of the process we will have a modified dataframe with additional columns for each return category: "
   ]
  },
  {
   "cell_type": "code",
   "execution_count": 5,
   "metadata": {
    "collapsed": false
   },
   "outputs": [],
   "source": [
    "#prediction periods\n",
    "periods = [1, 3, 7, 14]\n",
    "#here we will calculate the true return category for each date for the different periods.\n",
    "for p in periods:\n",
    "    s_direction = \"return_direction_only_{}_days\".format(p)\n",
    "    returnsDirectionOnly = []\n",
    "    for element in dfDailyEURGBP.index.values:\n",
    "        # for each date we calculate the return category for p days in the future\n",
    "        location = dfDailyEURGBP.index.get_loc(element)\n",
    "        currentPrice = dfDailyEURGBP.ix[element]['Close']\n",
    "        futurePriceLocation = location + p\n",
    "        if futurePriceLocation < len(dfDailyEURGBP):\n",
    "            futurePrice = dfDailyEURGBP.iloc[futurePriceLocation]['Close']\n",
    "            currentReturn = ((futurePrice - currentPrice) / currentPrice) * 100\n",
    "            if currentReturn < 0:\n",
    "                returnsDirectionOnly.append(0)\n",
    "            elif currentReturn >= 0:\n",
    "                returnsDirectionOnly.append(1)\n",
    "            else:\n",
    "                print \"Sanity check - we can't be here\"\n",
    "                break\n",
    "    # for each period we won't naturally have values for the return category for the last 1,3,7 and 14 days respectively\n",
    "    for i in range(len(dfDailyEURGBP) - len(returnsDirectionOnly)):\n",
    "        returnsDirectionOnly.append(np.nan)\n",
    "    dfDailyEURGBP[s_direction] = pd.Series(returnsDirectionOnly, index = dfDailyEURGBP.index.values)"
   ]
  },
  {
   "cell_type": "markdown",
   "metadata": {},
   "source": [
    "Now we can proceed to calculating the benchmark values for each legitimate starting date:"
   ]
  },
  {
   "cell_type": "code",
   "execution_count": 6,
   "metadata": {
    "collapsed": false
   },
   "outputs": [
    {
     "data": {
      "image/png": "[encoded data removed]",
      "text/plain": [
       "<matplotlib.figure.Figure at 0x140f2668>"
      ]
     },
     "metadata": {},
     "output_type": "display_data"
    }
   ],
   "source": [
    "#first, let us have a quick look at the histogram of the daily returns to eye ball it for normality.\n",
    "%matplotlib inline\n",
    "import matplotlib.pyplot as plt\n",
    "dfDailyEURGBPchange = (dfDailyEURGBP['Close'].pct_change(1)) * 100\n",
    "dfDailyEURGBPchange.hist(bins = 60) #seems normal for our purposes\n",
    "plt.xlabel(\"Daily Returns [%]\")\n",
    "plt.title(\"Distribution of daily returns\")\n",
    "plt.savefig(\"DailyReturnDistribution\")\n",
    "#now we will use for our simulation the daily values\n",
    "dfDailyEURGBPchange = (dfDailyEURGBP['Close'].pct_change(1)) \n",
    "dailyChangeMean = dfDailyEURGBPchange.mean()\n",
    "dailyChangeStd = dfDailyEURGBPchange.std()"
   ]
  },
  {
   "cell_type": "markdown",
   "metadata": {},
   "source": [
    "From the above figure it can be seem that the different distributions are rougly normal (not perfect but close enough) for the benchmark purposes. We thus at the end calculated the daily average and std for the simulation purposes. We will now create some helper functions that will allow us to get the benchmark category prediction for each legitimate starting price."
   ]
  },
  {
   "cell_type": "markdown",
   "metadata": {},
   "source": [
    "*** Helper function for calculating the output class: ***"
   ]
  },
  {
   "cell_type": "code",
   "execution_count": 7,
   "metadata": {
    "collapsed": true
   },
   "outputs": [],
   "source": [
    "#this is a small helper function for calculating return category\n",
    "#it has the additional capacity (for future work) to calculate multi-class return categories and not just binary\n",
    "def calculateCategory(returnValue, directionOnly = True):\n",
    "    if directionOnly == False:\n",
    "        if returnValue < -5:\n",
    "            return(\"A\")\n",
    "        elif returnValue >= -5 and returnValue < -1:\n",
    "            return(\"B\")\n",
    "        elif returnValue >= -1 and returnValue < 0:\n",
    "            return(\"C\")\n",
    "        elif returnValue >= 0 and returnValue < 1:\n",
    "            return(\"D\")\n",
    "        elif returnValue >= 1 and returnValue < 5:\n",
    "            return(\"E\")\n",
    "        elif returnValue >= 5:\n",
    "            return(\"F\")\n",
    "        else:\n",
    "            print \"Sanity check - we can't be here\"\n",
    "    else:\n",
    "        if returnValue < 0:\n",
    "            return 0\n",
    "        else:\n",
    "            return 1"
   ]
  },
  {
   "cell_type": "markdown",
   "metadata": {},
   "source": [
    "***The function to calculate the benchmark values:***"
   ]
  },
  {
   "cell_type": "code",
   "execution_count": 8,
   "metadata": {
    "collapsed": false
   },
   "outputs": [],
   "source": [
    "#now we can create a function that simulate for each prediction period the banchmark prediction\n",
    "#startDate should be given as an int in the form yyyymmdd and period is either 1,3,7 or 14\n",
    "import numpy.random as npr\n",
    "npr.seed(42)\n",
    "\n",
    "def benchmarkCalc(startDate, period, direction = True, convert = True):\n",
    "    sampleSizeSimulation = 1000  #sample size for the simulation \n",
    "    if convert:\n",
    "        start = np.datetime64(dt.datetime.strptime(str(startDate), '%Y%m%d'))\n",
    "    else:\n",
    "        start = startDate\n",
    "    startClosePrice = dfDailyEURGBP.ix[start, ['Close']]['Close']\n",
    "    simulatedPrices = []\n",
    "    categories = []\n",
    "    for i in range(sampleSizeSimulation):\n",
    "        randomValues = npr.normal(dailyChangeMean, dailyChangeStd, period)\n",
    "        tmpPrice = startClosePrice\n",
    "        for i in range(period):\n",
    "            tmpPrice = tmpPrice + randomValues[i] * tmpPrice\n",
    "        simulatedPrices.append(tmpPrice)\n",
    "    #the mean of the simulated values is considered the benchmark price prediction\n",
    "    benchmarkPriceResult = pd.Series(simulatedPrices).mean()\n",
    "    #now we need to calculate the corresponding category\n",
    "    returnBenchmark = ((benchmarkPriceResult - startClosePrice) / startClosePrice) * 100\n",
    "    returnBenchmarkCategory = calculateCategory(returnBenchmark, directionOnly = direction)\n",
    "    return returnBenchmarkCategory\n"
   ]
  },
  {
   "cell_type": "code",
   "execution_count": 9,
   "metadata": {
    "collapsed": false
   },
   "outputs": [],
   "source": [
    "#we add it to the dataframe and it will serve as our output columns\n",
    "for index, row in dfDailyEURGBP.iterrows():\n",
    "    dfDailyEURGBP.loc[index, \"Benchmark_1_day_DirectionOnly\"] = benchmarkCalc(index, 1, direction = True, convert = False)\n",
    "    dfDailyEURGBP.loc[index, \"Benchmark_3_day_DirectionOnly\"] = benchmarkCalc(index, 3, direction = True, convert = False)\n",
    "    dfDailyEURGBP.loc[index, \"Benchmark_7_day_DirectionOnly\"] = benchmarkCalc(index, 7, direction = True, convert = False)\n",
    "    dfDailyEURGBP.loc[index, \"Benchmark_14_day_DirectionOnly\"] = benchmarkCalc(index, 14, direction = True, convert = False)"
   ]
  },
  {
   "cell_type": "markdown",
   "metadata": {},
   "source": [
    "Now we are going to move forward and build classification models using decision trees, SVM and neural networks. The first thing we will do is to build some indicators out of the raw price data that will serve as features/predictors/X's. We do this in order to work with well known and used indicators that are widely used across Forex trading.\n",
    "The indicators we will build are:\n",
    "\n",
    "SMA(20)/Close: The Simple Moving Average for the last 20 days of the close price divided by the Close price for the current day. This was adopted from the course \"Machine Learning For Trading\" where Prof. Bulch talks about this feature so I thought I will include it.\n",
    "\n",
    "ATR(20): Average True Range. Developed by J. Welles Wilder, the Average True Range (ATR) is an indicator that measures volatility.It is important to remember that ATR does not provide an indication of price direction, just volatility. The window of calculation is again the last 20 days.\n",
    "\n",
    "Bollinger Bands: Developed by John Bollinger, Bollinger Bands® are volatility bands placed above and below a moving average. Volatility is based on the standard deviation, which changes as volatility increases and decreases. Bollinger Bands can be used to determine the strength of the trend. Again, we will use 20 days window.\n",
    "\n",
    "Daily Return: A very common feature to consider is the return of the current day, just after close. This will be a discrete feature with the same categories as the output variables.\n",
    "\n",
    "These are our features and later on we will use them in the training and testing of our different models.\n"
   ]
  },
  {
   "cell_type": "code",
   "execution_count": 10,
   "metadata": {
    "collapsed": false
   },
   "outputs": [],
   "source": [
    "#daily return\n",
    "pd.options.mode.chained_assignment = None\n",
    "dfDailyEURGBP[\"DailyReturn\"] = dfDailyEURGBP['Close'].pct_change(1) * 100\n",
    "dfDailyEURGBP[\"DailyReturn\"][0] = 0\n",
    "dfDailyEURGBP[\"DailyReturnCategory\"] = dfDailyEURGBP[\"DailyReturn\"].apply(calculateCategory)"
   ]
  },
  {
   "cell_type": "code",
   "execution_count": 11,
   "metadata": {
    "collapsed": true
   },
   "outputs": [],
   "source": [
    "#SMA(20)/Close\n",
    "def calculateSMA(data, lookbackPeriod = 20):\n",
    "    title = \"SMA({})/Close\".format(str(lookbackPeriod))\n",
    "    #data[title] = pd.rolling_mean(data['Close'], lookbackPeriod) / data['Close']\n",
    "    data[title] = data['Close'].rolling(window = lookbackPeriod).mean() / data['Close']\n",
    "    return data\n",
    "dfDailyEURGBP = calculateSMA(dfDailyEURGBP)"
   ]
  },
  {
   "cell_type": "code",
   "execution_count": 12,
   "metadata": {
    "collapsed": false
   },
   "outputs": [],
   "source": [
    "#ATR\n",
    "def averageTRvalues(TR, lookbackPeriod = 20):\n",
    "    ans = []\n",
    "    for i in range(lookbackPeriod - 1):\n",
    "        ans.append(np.nan)\n",
    "    ans.append(TR[0:lookbackPeriod].mean())\n",
    "    for i in range(lookbackPeriod, TR.size):\n",
    "        ans.append((ans[i - 1] * (lookbackPeriod - 1) + TR[i]) / lookbackPeriod)\n",
    "    return ans\n",
    "def calculateATR(data, lookbackPeriod = 20):\n",
    "    title = \"ATR({})\".format(str(lookbackPeriod))\n",
    "    data[\"TR_1\"] = (data['High'] - data['Low']).abs() #HIGH - CLOSE for the current day\n",
    "    data[\"TR_2\"] = (data['High'] - data['Close'].shift(1)).abs() #Today's HIGH - yesterday's CLOSE\n",
    "    data[\"TR_3\"] = (data['Close'].shift(1) - data['Low']).abs() #Yesterday's CLOSE - today's LOW\n",
    "    data[\"TR\"] = data[[\"TR_1\", \"TR_2\", \"TR_3\"]].max(axis = 1) #the max of the three is the True Range value\n",
    "    # now we average it to calculate the ATR.\n",
    "    data[title] = pd.Series(averageTRvalues(data[\"TR\"]), index = data.index)\n",
    "    return data\n",
    "\n",
    "dfDailyEURGBP = calculateATR(dfDailyEURGBP)"
   ]
  },
  {
   "cell_type": "code",
   "execution_count": 13,
   "metadata": {
    "collapsed": false
   },
   "outputs": [],
   "source": [
    "#Bollinger Bands. \n",
    "# here we will calculate the upper bollinger value and the lower bollinger value since the middle band is just the SMA.\n",
    "def calculateBB(data,lookbackPeriod = 20, distance = 2):\n",
    "    data[\"UpperBB\"] = data['Close'].rolling(window = lookbackPeriod).mean() + data['Close'].rolling(window = lookbackPeriod).std() * distance\n",
    "    data[\"LowerBB\"] = data['Close'].rolling(window = lookbackPeriod).mean() - data['Close'].rolling(window = lookbackPeriod).std() * distance\n",
    "    return data\n",
    "dfDailyEURGBP = calculateBB(dfDailyEURGBP)"
   ]
  },
  {
   "cell_type": "code",
   "execution_count": 14,
   "metadata": {
    "collapsed": false
   },
   "outputs": [],
   "source": [
    "#MACD (Moving Average Convergence Divergence). It is a popular momentum indicator that computes the difference between two moving\n",
    "#averages of different periods. We will use the MACD SMA with the default values of 12 and 26: 12D SMA - 26D SMA. Now, in trading\n",
    "#what is actually being used is the MACD signal value which is a moving average of the above difference and this is the value\n",
    "#we will use\n",
    "def calculateMACD(data, fastPeriod = 12, slowPeriod = 26, signalPeriod = 9):\n",
    "    data[\"MACDfast\"] = data['Close'].rolling(window = fastPeriod).mean()\n",
    "    data[\"MACDSlow\"] = data['Close'].rolling(window = slowPeriod).mean()\n",
    "    data[\"MACD\"] = data[\"MACDfast\"] - data[\"MACDSlow\"]\n",
    "    data[\"MACD_Signal\"] = data[\"MACD\"].rolling(window = signalPeriod).mean()\n",
    "    return data\n",
    "dfDailyEURGBP = calculateMACD(dfDailyEURGBP)\n"
   ]
  },
  {
   "cell_type": "code",
   "execution_count": 15,
   "metadata": {
    "collapsed": false
   },
   "outputs": [],
   "source": [
    "#RSI (Relative Strength Index). This indicator is a momentum oscillator that relates to zones of oversold and overbought of \n",
    "# a financial instrument. It is given by: RSI = 100 - 100 / (1 + RS), where RS = average gain / average loss, and we will use \n",
    "# the daily return as our gain or loss for a period window of 14 for calculating this average.\n",
    "\n",
    "\n",
    "def calculateRSI(data, averagePeriod = 14):\n",
    "    #first we need to create the gain and losses vectors\n",
    "    gain = data[\"DailyReturn\"].copy()\n",
    "    gain[gain < 0 ] = 0 #for the average gain we only need the sma of the positive values\n",
    "    loss = data[\"DailyReturn\"].copy()\n",
    "    loss[loss > 0] = 0 #same thing in the other direction\n",
    "    loss = loss.abs()\n",
    "    RS = gain.rolling(window = averagePeriod).mean() / loss.rolling(window = averagePeriod).mean()\n",
    "    data[\"RSI\"] = 100 - 100 / (1 + RS)\n",
    "    return data\n",
    "\n",
    "dfDailyEURGBP = calculateRSI(dfDailyEURGBP)  "
   ]
  },
  {
   "cell_type": "code",
   "execution_count": 16,
   "metadata": {
    "collapsed": false
   },
   "outputs": [
    {
     "name": "stdout",
     "output_type": "stream",
     "text": [
      "We have 2137 days in our training data \n",
      "We have 220 days in our testing data \n"
     ]
    }
   ],
   "source": [
    "# now we need to clean our dataset a little bit in order to get rid of all the \"helper\" columns and create a training\n",
    "# and testing set\n",
    "dfDailyEURGBPClean = dfDailyEURGBP.dropna()\n",
    "\n",
    "# helper function to index the dataframe easily\n",
    "def intToDate(d):\n",
    "    return np.datetime64(dt.datetime.strptime(str(d),'%Y%m%d')) #date should be in the form YYYYMMDD as an int \n",
    "\n",
    "# we will, for starters, train on the the data set since the beginning until the end of 2014 and use 2015 and 2016\n",
    "# as the test set.\n",
    "trainData = dfDailyEURGBPClean.loc[:intToDate(20151231)] # we use all the data up to 2016 for training\n",
    "testData = dfDailyEURGBPClean.loc[intToDate(20160101):] # the data of 2016 is used for testing\n",
    "\n",
    "print \"We have {} days in our training data \".format(trainData.shape[0])\n",
    "print \"We have {} days in our testing data \".format(testData.shape[0])\n",
    "\n",
    "\n"
   ]
  },
  {
   "cell_type": "code",
   "execution_count": 17,
   "metadata": {
    "collapsed": false
   },
   "outputs": [
    {
     "name": "stdout",
     "output_type": "stream",
     "text": [
      "--------------------------------------------------------------------------------\n",
      "Below are the results for the test period (year 2016) of the benchmark function:\n",
      "--------------------------------------------------------------------------------\n",
      "return direction only for 1 day prediction:\n",
      "0.531818181818\n",
      "return direction only for 3 day prediction:\n",
      "0.513636363636\n",
      "return direction only for 7 day prediction:\n",
      "0.436363636364\n",
      "return direction only for 14 day prediction:\n",
      "0.427272727273\n"
     ]
    }
   ],
   "source": [
    "from sklearn.metrics import accuracy_score\n",
    "# we will run our benchmark function for 2016, which is the testing set\n",
    "BenchmarkData = dfDailyEURGBPClean.loc[intToDate(20160101):]\n",
    "print \"--------------------------------------------------------------------------------\"\n",
    "print \"Below are the results for the test period (year 2016) of the benchmark function:\"\n",
    "print \"--------------------------------------------------------------------------------\"\n",
    "print \"return direction only for 1 day prediction:\"\n",
    "print accuracy_score(BenchmarkData['return_direction_only_1_days'], BenchmarkData['Benchmark_1_day_DirectionOnly'])\n",
    "print \"return direction only for 3 day prediction:\"\n",
    "print accuracy_score(BenchmarkData['return_direction_only_3_days'], BenchmarkData['Benchmark_3_day_DirectionOnly'])\n",
    "print \"return direction only for 7 day prediction:\"\n",
    "print accuracy_score(BenchmarkData['return_direction_only_7_days'], BenchmarkData['Benchmark_7_day_DirectionOnly'])\n",
    "print \"return direction only for 14 day prediction:\"\n",
    "print accuracy_score(BenchmarkData['return_direction_only_14_days'], BenchmarkData['Benchmark_14_day_DirectionOnly'])"
   ]
  },
  {
   "cell_type": "code",
   "execution_count": 18,
   "metadata": {
    "collapsed": false
   },
   "outputs": [
    {
     "name": "stdout",
     "output_type": "stream",
     "text": [
      "the score on the test set year of our 'out of the box' model (return direction only for 14 day prediction):\n",
      "0.413636363636\n",
      "the score when we first predict and then calling accuracy_score is:\n",
      "0.413636363636\n"
     ]
    }
   ],
   "source": [
    "#now we can import the relevant functionality from sklearn\n",
    "from sklearn.tree import DecisionTreeClassifier\n",
    "# the two main changes I would like to make to the default settings are for the criterion (entropy instead of ginni) and \n",
    "# min_samples_split for 1% (half a percent) since this gives roughly a little bit over two weeks and less days will be too\n",
    "# volatile according with my experience to \"trust\" the split. We can always fine tune it later.\n",
    "features = ['DailyReturn', 'SMA(20)/Close', 'ATR(20)', 'UpperBB', 'LowerBB', 'MACD_Signal', 'RSI']\n",
    "outputs = ['return_direction_only_1_days','return_direction_only_3_days','return_direction_only_7_days','return_direction_only_14_days']\n",
    "#here we rapidly get a taste for the decision tree model out of the box using information gain \n",
    "clf = DecisionTreeClassifier(criterion = \"entropy\", random_state = 23)\n",
    "#training set\n",
    "X = trainData[features]\n",
    "Y = trainData[['return_direction_only_14_days']] #we run it for the two weeks direction prediction\n",
    "clf.fit(X,Y)\n",
    "#testing set\n",
    "X_test = testData[features]\n",
    "Y_test = testData[['return_direction_only_14_days']]\n",
    "print \"the score on the test set year of our 'out of the box' model (return direction only for 14 day prediction):\"\n",
    "print clf.score(X_test, Y_test)\n",
    "print \"the score when we first predict and then calling accuracy_score is:\"\n",
    "y_pred = clf.predict(X_test)\n",
    "print accuracy_score(y_pred, Y_test)"
   ]
  },
  {
   "cell_type": "markdown",
   "metadata": {},
   "source": [
    "As can be seen from the result we do not \"win\" the benchmark model by using out-of-the-box decision tree. Some tuning is required. We need to do some cross-validation and parameter fine tuning. For that we need to remember that the correct way to split the data for cross-validation is by using a time series split, available for us in sklearn as TimeSeriesSplit.\n",
    "Also, I have decided for the next algos to run the GridSearch from the beginning instead of going through a trial of the model out of the box due to the above results."
   ]
  },
  {
   "cell_type": "code",
   "execution_count": 19,
   "metadata": {
    "collapsed": false
   },
   "outputs": [],
   "source": [
    "#this is the data set used for fine tuning \n",
    "X_crossValidation = trainData[features]\n",
    "Y_crossValidation = trainData[outputs]\n",
    "#this is the data set used for testing the final model, after fine tuning has been conducted (totally unseen by the models)\n",
    "X_testCrossValidation = testData[features]\n",
    "Y_testCrossValidation = testData[outputs]"
   ]
  },
  {
   "cell_type": "code",
   "execution_count": 20,
   "metadata": {
    "collapsed": false
   },
   "outputs": [
    {
     "name": "stdout",
     "output_type": "stream",
     "text": [
      "{'7_day': [0.51818181818181819], '14_day': [0.4681818181818182], '3_day': [0.44545454545454544], '1_day': [0.48636363636363639]}\n"
     ]
    }
   ],
   "source": [
    "#Now we will conduct cross-validation\n",
    "from sklearn.model_selection import TimeSeriesSplit #for time series split avoiding look-ahead bias\n",
    "from sklearn.model_selection import GridSearchCV #for fine-tuning main parameters\n",
    "tree = DecisionTreeClassifier(random_state = 23) # our estimator to be optimized with respect to its parameters (subset of them)\n",
    "# here are the parameter grid to search upon\n",
    "p_grid = {\"criterion\":[\"entropy\", \"gini\"], \"max_depth\":[5,6,7,8,9,10], \"min_samples_split\":[6,8,10,12,14],\"min_samples_leaf\":[5,6,7,8,9,10]}\n",
    "# dictionaries to hold the results - best model score (on the cross-validation) for each prediction period, params of these best\n",
    "# models and the accuracy score of these models on the unseen test data\n",
    "bestModelScores_DecisionTree = {\"1_day\":[], \"3_day\":[], \"7_day\":[], \"14_day\":[]}\n",
    "bestModelParams_DecisionTree = {\"1_day\":[], \"3_day\":[], \"7_day\":[], \"14_day\":[]}\n",
    "bestScoreOnTestSet_DecisionTree = {\"1_day\":[], \"3_day\":[], \"7_day\":[], \"14_day\":[]}\n",
    "#running the fine tuning\n",
    "for period in [1,3,7,14]:\n",
    "    # split the data into numSplits \"folds\" and set the ground for parameter tuning\n",
    "    cvSplit = TimeSeriesSplit(n_splits = 8)\n",
    "    clf = GridSearchCV(estimator = tree, param_grid = p_grid, cv = cvSplit, scoring = 'accuracy')\n",
    "    # extracting the current output for cv tuning and testing\n",
    "    currentOutput = 'return_direction_only_{}_days'.format(str(period)) \n",
    "    Y_current = Y_crossValidation[currentOutput] \n",
    "    Y_currentTest = Y_testCrossValidation[currentOutput]\n",
    "    # run the search\n",
    "    clf.fit(X_crossValidation, Y_current)\n",
    "    # run the test\n",
    "    currentBestScoreTestSet = clf.score(X_testCrossValidation, Y_currentTest)\n",
    "    # store the results in the appropriate dictionary\n",
    "    bestModelScores_DecisionTree[\"{}_day\".format(str(period))].append(clf.best_score_)\n",
    "    bestModelParams_DecisionTree[\"{}_day\".format(str(period))].append(clf.best_params_)\n",
    "    bestScoreOnTestSet_DecisionTree[\"{}_day\".format(str(period))].append(currentBestScoreTestSet)\n",
    "\n",
    "print bestScoreOnTestSet_DecisionTree"
   ]
  },
  {
   "cell_type": "code",
   "execution_count": 21,
   "metadata": {
    "collapsed": false
   },
   "outputs": [
    {
     "name": "stdout",
     "output_type": "stream",
     "text": [
      "{'7_day': [{'min_samples_split': 6, 'criterion': 'entropy', 'max_depth': 6, 'min_samples_leaf': 7}], '14_day': [{'min_samples_split': 6, 'criterion': 'entropy', 'max_depth': 6, 'min_samples_leaf': 7}], '3_day': [{'min_samples_split': 6, 'criterion': 'entropy', 'max_depth': 10, 'min_samples_leaf': 6}], '1_day': [{'min_samples_split': 6, 'criterion': 'entropy', 'max_depth': 6, 'min_samples_leaf': 9}]}\n"
     ]
    }
   ],
   "source": [
    "print bestModelParams_DecisionTree"
   ]
  },
  {
   "cell_type": "markdown",
   "metadata": {},
   "source": [
    "Now we can try to use a second algorithm to classify our binary results - SVM. Before that, I realized it would be more efficient to write a function that runs the fine tuning and just call it for each algorithm with the appropriate setup:"
   ]
  },
  {
   "cell_type": "code",
   "execution_count": 22,
   "metadata": {
    "collapsed": true
   },
   "outputs": [],
   "source": [
    "def fineTuneParameters(bestScores, bestParams, bestScoreTestSet, model, pGrid):\n",
    "    for period in [1,3,7,14]:\n",
    "        numSplits = 8 # chose one value for simplicity\n",
    "        cvSplit = TimeSeriesSplit(n_splits = numSplits)\n",
    "        clf = GridSearchCV(estimator = model, param_grid = pGrid, cv = cvSplit, scoring = 'accuracy')\n",
    "        currentOutput = 'return_direction_only_{}_days'.format(str(period)) \n",
    "        Y_current = Y_crossValidation[currentOutput] \n",
    "        Y_currentTest = Y_testCrossValidation[currentOutput]\n",
    "        clf.fit(X_crossValidation, Y_current)\n",
    "        currentBestScoreTestSet = clf.score(X_testCrossValidation, Y_currentTest)\n",
    "        bestScores[\"{}_day\".format(str(period))].append(clf.best_score_)\n",
    "        bestParams[\"{}_day\".format(str(period))].append(clf.best_params_)\n",
    "        bestScoreTestSet[\"{}_day\".format(str(period))].append(currentBestScoreTestSet)"
   ]
  },
  {
   "cell_type": "code",
   "execution_count": 23,
   "metadata": {
    "collapsed": false
   },
   "outputs": [
    {
     "name": "stdout",
     "output_type": "stream",
     "text": [
      "{'7_day': [0.38636363636363635], '14_day': [0.35909090909090907], '3_day': [0.52727272727272723], '1_day': [0.51818181818181819]}\n"
     ]
    }
   ],
   "source": [
    "# Here we start with the SVM part.\n",
    "from sklearn.svm import SVC\n",
    "#Since I don't have any preference based on my domain knowkedge to a specific kernel giving the technical indicators we are\n",
    "#using(the features), we will try and test a large suite of tuning parameters, including kernel functions.\n",
    "\n",
    "#let us start with a simple linear kernel tuning the value of the regularization parameter C\n",
    "bestModelScores_SVM_linear = {\"1_day\":[], \"3_day\":[], \"7_day\":[], \"14_day\":[]}\n",
    "bestModelParams_SVM_linear = {\"1_day\":[], \"3_day\":[], \"7_day\":[], \"14_day\":[]}\n",
    "bestScoreOnTestSet_SVM_linear = {\"1_day\":[], \"3_day\":[], \"7_day\":[], \"14_day\":[]}\n",
    "svmLinear = SVC(kernel = 'linear', random_state = 23)\n",
    "p_grid_linear = {'C':[0.1, 0.5, 1.0, 5.0, 15.0]}\n",
    "fineTuneParameters(bestModelScores_SVM_linear, bestModelParams_SVM_linear, bestScoreOnTestSet_SVM_linear, svmLinear, p_grid_linear)\n",
    "\n",
    "print bestScoreOnTestSet_SVM_linear"
   ]
  },
  {
   "cell_type": "code",
   "execution_count": 24,
   "metadata": {
    "collapsed": false
   },
   "outputs": [
    {
     "name": "stdout",
     "output_type": "stream",
     "text": [
      "{'7_day': [0.44545454545454544], '14_day': [0.35909090909090907], '3_day': [0.49545454545454548], '1_day': [0.5]}\n"
     ]
    }
   ],
   "source": [
    "# now we will try rbf kernel\n",
    "\n",
    "bestModelScores_SVM_rbf = {\"1_day\":[], \"3_day\":[], \"7_day\":[], \"14_day\":[]}\n",
    "bestModelParams_SVM_rbf = {\"1_day\":[], \"3_day\":[], \"7_day\":[], \"14_day\":[]}\n",
    "bestScoreOnTestSet_SVM_rbf = {\"1_day\":[], \"3_day\":[], \"7_day\":[], \"14_day\":[]}\n",
    "svmRBF = SVC(kernel = \"rbf\", random_state = 23)\n",
    "p_grid_rbf = {\"C\":[0.1, 0.5, 1.0, 5.0, 15.0], \"gamma\":[0.001,0.01,0.05,0.1,0.15]}\n",
    "fineTuneParameters(bestModelScores_SVM_rbf,bestModelParams_SVM_rbf,bestScoreOnTestSet_SVM_rbf,svmRBF,p_grid_rbf)\n",
    "\n",
    "print bestScoreOnTestSet_SVM_rbf"
   ]
  },
  {
   "cell_type": "code",
   "execution_count": 25,
   "metadata": {
    "collapsed": false
   },
   "outputs": [
    {
     "name": "stdout",
     "output_type": "stream",
     "text": [
      "{'7_day': [0.52531645569620256], '14_day': [0.51371308016877637], '3_day': [0.495253164556962], '1_day': [0.50263713080168781]}\n",
      "{'7_day': [0.50909090909090904], '14_day': [0.35909090909090907], '3_day': [0.53181818181818186], '1_day': [0.48636363636363639]}\n"
     ]
    }
   ],
   "source": [
    "# now we will try sigmoid kernel\n",
    "bestModelScores_SVM_sigmoid = {\"1_day\":[], \"3_day\":[], \"7_day\":[], \"14_day\":[]}\n",
    "bestModelParams_SVM_sigmoid = {\"1_day\":[], \"3_day\":[], \"7_day\":[], \"14_day\":[]}\n",
    "bestScoreOnTestSet_SVM_sigmoid = {\"1_day\":[], \"3_day\":[], \"7_day\":[], \"14_day\":[]}\n",
    "svmSigmoid = SVC(kernel = \"sigmoid\", random_state = 23)\n",
    "p_grid_sigmoid = {\"C\":[0.1, 0.5, 1.0, 5.0, 15.0], \"gamma\":[0.001,0.01,0.05,0.1,0.15]} #same as rbf\n",
    "fineTuneParameters(bestModelScores_SVM_sigmoid,bestModelParams_SVM_sigmoid,bestScoreOnTestSet_SVM_sigmoid,svmSigmoid,p_grid_sigmoid)\n",
    "#svmSigmoid.fit(X_crossValidation,Y_crossValidation['return_direction_only_1_days'])\n",
    "#svmSigmoid.score(X_testCrossValidation,Y_testCrossValidation['return_direction_only_1_days'])\n",
    "print bestModelScores_SVM_sigmoid\n",
    "print bestScoreOnTestSet_SVM_sigmoid "
   ]
  },
  {
   "cell_type": "code",
   "execution_count": 26,
   "metadata": {
    "collapsed": false
   },
   "outputs": [
    {
     "name": "stdout",
     "output_type": "stream",
     "text": [
      "{'7_day': [0.50454545454545452, 0.47727272727272729, 0.50454545454545452], '14_day': [0.40454545454545454, 0.42727272727272725, 0.49545454545454548], '3_day': [0.44545454545454544, 0.45909090909090911, 0.47727272727272729], '1_day': [0.51818181818181819, 0.47272727272727272, 0.53181818181818186]}\n"
     ]
    }
   ],
   "source": [
    "# neural networks - we will use a multi-layer perceptron classifier from sklearn\n",
    "from sklearn.neural_network import MLPClassifier\n",
    "bestScoreOnTestSet_NN = {\"1_day\":[], \"3_day\":[], \"7_day\":[], \"14_day\":[]}\n",
    "for p in [1,3,7,14]:\n",
    "    for method in [\"logistic\", \"tanh\", \"relu\"]:\n",
    "        currentOutput = \"return_direction_only_{}_days\".format(str(p))\n",
    "        NNmodel = MLPClassifier(solver = 'lbfgs', shuffle = False, random_state = 23, activation = method)\n",
    "        NNmodel.fit(X_crossValidation, Y_crossValidation[currentOutput])\n",
    "        bestScoreOnTestSet_NN[\"{}_day\".format(str(p))].append(NNmodel.score(X_testCrossValidation,Y_testCrossValidation[currentOutput]))\n",
    "print bestScoreOnTestSet_NN"
   ]
  },
  {
   "cell_type": "code",
   "execution_count": 27,
   "metadata": {
    "collapsed": false
   },
   "outputs": [],
   "source": [
    "# kNN\n",
    "from sklearn.neighbors import KNeighborsClassifier\n",
    "\n",
    "bestModelScores_kNN = {\"1_day\":[], \"3_day\":[], \"7_day\":[], \"14_day\":[]}\n",
    "bestModelParams_kNN = {\"1_day\":[], \"3_day\":[], \"7_day\":[], \"14_day\":[]}\n",
    "bestScoreOnTestSet_kNN = {\"1_day\":[], \"3_day\":[], \"7_day\":[], \"14_day\":[]}\n",
    "\n",
    "knnModel = KNeighborsClassifier()\n",
    "p_grid_knn = {\"n_neighbors\":[3,5,10,15,20,25,30], \"weights\":[\"distance\", \"uniform\"]}\n",
    "\n",
    "fineTuneParameters(bestModelScores_kNN,bestModelParams_kNN,bestScoreOnTestSet_kNN,knnModel,p_grid_knn)"
   ]
  },
  {
   "cell_type": "code",
   "execution_count": 28,
   "metadata": {
    "collapsed": false
   },
   "outputs": [
    {
     "name": "stdout",
     "output_type": "stream",
     "text": [
      "[0.55454545454545456]\n",
      "[{'n_neighbors': 20, 'weights': 'uniform'}]\n"
     ]
    }
   ],
   "source": [
    "print bestScoreOnTestSet_kNN['3_day']\n",
    "print bestModelParams_kNN['3_day']"
   ]
  },
  {
   "cell_type": "code",
   "execution_count": 29,
   "metadata": {
    "collapsed": false
   },
   "outputs": [],
   "source": [
    "# in light of the previous results I have decided to use an ensemble algorithm and adaboost seems to be a good choice. \n",
    "from sklearn.ensemble import AdaBoostClassifier\n",
    "# we will use a decision tree with the best parameters we found earlier to use in our boost algo.\n",
    "# the parameter varies a bit for the different prediction horizons so we will run AdAboost for each horizon apart"
   ]
  },
  {
   "cell_type": "code",
   "execution_count": 30,
   "metadata": {
    "collapsed": false
   },
   "outputs": [
    {
     "name": "stdout",
     "output_type": "stream",
     "text": [
      "0.545454545455\n",
      "3\n"
     ]
    }
   ],
   "source": [
    "#1-day direction prediction\n",
    "results_1_day = []\n",
    "for numEstimators in range(10, 201, 2):\n",
    "    bdt = AdaBoostClassifier(DecisionTreeClassifier(min_samples_split = 6, criterion = 'entropy', max_depth = 6, min_samples_leaf = 9), n_estimators = numEstimators, random_state = 23)\n",
    "    bdt.fit(X_crossValidation,Y_crossValidation['return_direction_only_1_days'])\n",
    "    scr = bdt.score(X_testCrossValidation,Y_testCrossValidation['return_direction_only_1_days'])\n",
    "    results_1_day.append(scr)\n",
    "print max(results_1_day)\n",
    "print results_1_day.index(max(results_1_day))"
   ]
  },
  {
   "cell_type": "code",
   "execution_count": 31,
   "metadata": {
    "collapsed": false
   },
   "outputs": [
    {
     "name": "stdout",
     "output_type": "stream",
     "text": [
      "0.490909090909\n"
     ]
    }
   ],
   "source": [
    "#3-day direction prediction\n",
    "results_3_day = []\n",
    "for numEstimators in range(10, 201, 10):\n",
    "    bdt = AdaBoostClassifier(DecisionTreeClassifier(min_samples_split = 6, criterion = 'entropy', max_depth = 10, min_samples_leaf = 6), n_estimators = numEstimators, random_state = 23)\n",
    "    bdt.fit(X_crossValidation,Y_crossValidation['return_direction_only_3_days'])\n",
    "    scr = bdt.score(X_testCrossValidation,Y_testCrossValidation['return_direction_only_3_days'])\n",
    "    results_3_day.append(scr)\n",
    "print max(results_3_day)"
   ]
  },
  {
   "cell_type": "code",
   "execution_count": 32,
   "metadata": {
    "collapsed": false
   },
   "outputs": [
    {
     "name": "stdout",
     "output_type": "stream",
     "text": [
      "0.490909090909\n"
     ]
    }
   ],
   "source": [
    "#7-day direction prediction\n",
    "results_7_day = []\n",
    "for numEstimators in range(10, 201, 10):\n",
    "    bdt = AdaBoostClassifier(DecisionTreeClassifier(min_samples_split = 6, criterion = 'entropy', max_depth = 6, min_samples_leaf = 7), n_estimators = numEstimators, random_state = 23)\n",
    "    bdt.fit(X_crossValidation,Y_crossValidation['return_direction_only_7_days'])\n",
    "    scr = bdt.score(X_testCrossValidation,Y_testCrossValidation['return_direction_only_7_days'])\n",
    "    results_7_day.append(scr)\n",
    "print max(results_7_day)"
   ]
  },
  {
   "cell_type": "code",
   "execution_count": 33,
   "metadata": {
    "collapsed": false
   },
   "outputs": [
    {
     "name": "stdout",
     "output_type": "stream",
     "text": [
      "0.436363636364\n"
     ]
    }
   ],
   "source": [
    "results_14_day = []\n",
    "for numEstimators in range(10, 201, 10):\n",
    "    bdt = AdaBoostClassifier(DecisionTreeClassifier(min_samples_split = 6, criterion = 'entropy', max_depth = 6, min_samples_leaf = 7), n_estimators = numEstimators, random_state = 23)\n",
    "    bdt.fit(X_crossValidation,Y_crossValidation['return_direction_only_14_days'])\n",
    "    scr = bdt.score(X_testCrossValidation,Y_testCrossValidation['return_direction_only_14_days'])\n",
    "    results_14_day.append(scr)\n",
    "print max(results_14_day)"
   ]
  },
  {
   "cell_type": "markdown",
   "metadata": {
    "collapsed": true
   },
   "source": [
    "**All the code found below this point was written for agumenting the report and as extra/additioanl analysis**"
   ]
  },
  {
   "cell_type": "code",
   "execution_count": 34,
   "metadata": {
    "collapsed": false
   },
   "outputs": [
    {
     "data": {
      "image/png": "[encoded data removed]",
      "text/plain": [
       "<matplotlib.figure.Figure at 0x15a56278>"
      ]
     },
     "metadata": {},
     "output_type": "display_data"
    }
   ],
   "source": [
    "%matplotlib inline\n",
    "import matplotlib.pyplot as plt\n",
    "plt.hist(dfEURGBP['Close'], bins = 60)\n",
    "plt.xlabel(\"Close Prices 1-min\")\n",
    "plt.ylabel(\"Frequency\")\n",
    "plt.title(\"Histogram of Close Prices EURGBP 2009 - 2016\")\n",
    "plt.savefig('rawPriceHist.png')"
   ]
  },
  {
   "cell_type": "code",
   "execution_count": 35,
   "metadata": {
    "collapsed": false
   },
   "outputs": [
    {
     "data": {
      "image/png": "[encoded data removed]",
      "text/plain": [
       "<matplotlib.figure.Figure at 0x16bdc8d0>"
      ]
     },
     "metadata": {},
     "output_type": "display_data"
    }
   ],
   "source": [
    "plt.plot(dfEURGBP['Close'], linewidth = 1.0)\n",
    "axes = plt.gca()\n",
    "axes.set_ylim([0.68,0.96])\n",
    "plt.xlabel(\"Index\")\n",
    "plt.ylabel(\"Close Price\")\n",
    "plt.title(\"Time Series of data - EURGBP - 1-min\")\n",
    "plt.savefig('rawPriceTimeSeries.png')"
   ]
  },
  {
   "cell_type": "code",
   "execution_count": 36,
   "metadata": {
    "collapsed": false
   },
   "outputs": [
    {
     "data": {
      "image/png": "[encoded data removed]",
      "text/plain": [
       "<matplotlib.figure.Figure at 0x10b07358>"
      ]
     },
     "metadata": {},
     "output_type": "display_data"
    }
   ],
   "source": [
    "#1-day\n",
    "benchmark_result_1_day = accuracy_score(BenchmarkData['return_direction_only_1_days'], BenchmarkData['Benchmark_1_day_DirectionOnly'])\n",
    "DT = bestScoreOnTestSet_DecisionTree['1_day'][0]\n",
    "SVM_linear = bestScoreOnTestSet_SVM_linear['1_day'][0]\n",
    "SVM_rbf = bestScoreOnTestSet_SVM_rbf['1_day'][0]\n",
    "SVM_sigmoid = bestScoreOnTestSet_SVM_sigmoid['1_day'][0]\n",
    "NN_logistic = bestScoreOnTestSet_NN['1_day'][0]\n",
    "NN_tanh = bestScoreOnTestSet_NN['1_day'][1]\n",
    "NN_relu = bestScoreOnTestSet_NN['1_day'][2]\n",
    "kNN = bestScoreOnTestSet_kNN['1_day'][0]\n",
    "AdaBoost = max(results_1_day)\n",
    "categories = ['DT','SVM_linear','SVM_rbf','SVM_sigmoid','NN_logistic','NN_tanh','NN_relu','kNN','AdaBoost']\n",
    "y_pos = np.arange(len(categories))\n",
    "scores = [DT, SVM_linear, SVM_rbf, SVM_sigmoid, NN_logistic, NN_tanh, NN_relu, kNN, AdaBoost]\n",
    "plt.bar(y_pos, scores, align = 'center', alpha = 0.7, width = 0.4)\n",
    "plt.xticks(y_pos, categories, fontsize = 8, rotation='vertical')\n",
    "plt.axhline(y = benchmark_result_1_day)\n",
    "plt.ylabel('Accuracy Score')\n",
    "plt.title('Performance of learning models versus benchmark for 1-day')\n",
    "plt.savefig('PerformanceModels_1_day.png')\n",
    "\n",
    "\n",
    "\n"
   ]
  },
  {
   "cell_type": "code",
   "execution_count": 37,
   "metadata": {
    "collapsed": false
   },
   "outputs": [
    {
     "data": {
      "image/png": "[encoded data removed]",
      "text/plain": [
       "<matplotlib.figure.Figure at 0x12177b70>"
      ]
     },
     "metadata": {},
     "output_type": "display_data"
    }
   ],
   "source": [
    "#3-day\n",
    "benchmark_result = accuracy_score(BenchmarkData['return_direction_only_3_days'], BenchmarkData['Benchmark_3_day_DirectionOnly'])\n",
    "DT = bestScoreOnTestSet_DecisionTree['3_day'][0]\n",
    "SVM_linear = bestScoreOnTestSet_SVM_linear['3_day'][0]\n",
    "SVM_rbf = bestScoreOnTestSet_SVM_rbf['3_day'][0]\n",
    "SVM_sigmoid = bestScoreOnTestSet_SVM_sigmoid['3_day'][0]\n",
    "NN_logistic = bestScoreOnTestSet_NN['3_day'][0]\n",
    "NN_tanh = bestScoreOnTestSet_NN['3_day'][1]\n",
    "NN_relu = bestScoreOnTestSet_NN['3_day'][2]\n",
    "kNN = bestScoreOnTestSet_kNN['3_day'][0]\n",
    "AdaBoost = max(results_3_day)\n",
    "categories = ['DT','SVM_linear','SVM_rbf','SVM_sigmoid','NN_logistic','NN_tanh','NN_relu','kNN','AdaBoost']\n",
    "y_pos = np.arange(len(categories))\n",
    "scores = [DT, SVM_linear, SVM_rbf, SVM_sigmoid, NN_logistic, NN_tanh, NN_relu, kNN, AdaBoost]\n",
    "plt.bar(y_pos, scores, align = 'center', alpha = 0.7, width = 0.4)\n",
    "plt.xticks(y_pos, categories, fontsize = 8, rotation='vertical')\n",
    "plt.axhline(y = benchmark_result)\n",
    "plt.ylabel('Accuracy Score')\n",
    "plt.title('Performance of learning models versus benchmark for 3-day')\n",
    "plt.savefig('PerformanceModels_3_day.png')"
   ]
  },
  {
   "cell_type": "code",
   "execution_count": 38,
   "metadata": {
    "collapsed": false
   },
   "outputs": [
    {
     "data": {
      "image/png": "[encoded data removed]",
      "text/plain": [
       "<matplotlib.figure.Figure at 0x12ec29b0>"
      ]
     },
     "metadata": {},
     "output_type": "display_data"
    }
   ],
   "source": [
    "#7-day\n",
    "benchmark_result = accuracy_score(BenchmarkData['return_direction_only_7_days'], BenchmarkData['Benchmark_7_day_DirectionOnly'])\n",
    "DT = bestScoreOnTestSet_DecisionTree['7_day'][0]\n",
    "SVM_linear = bestScoreOnTestSet_SVM_linear['7_day'][0]\n",
    "SVM_rbf = bestScoreOnTestSet_SVM_rbf['7_day'][0]\n",
    "SVM_sigmoid = bestScoreOnTestSet_SVM_sigmoid['7_day'][0]\n",
    "NN_logistic = bestScoreOnTestSet_NN['7_day'][0]\n",
    "NN_tanh = bestScoreOnTestSet_NN['7_day'][1]\n",
    "NN_relu = bestScoreOnTestSet_NN['7_day'][2]\n",
    "kNN = bestScoreOnTestSet_kNN['7_day'][0]\n",
    "AdaBoost = max(results_7_day)\n",
    "categories = ['DT','SVM_linear','SVM_rbf','SVM_sigmoid','NN_logistic','NN_tanh','NN_relu','kNN','AdaBoost']\n",
    "y_pos = np.arange(len(categories))\n",
    "scores = [DT, SVM_linear, SVM_rbf, SVM_sigmoid, NN_logistic, NN_tanh, NN_relu, kNN, AdaBoost]\n",
    "plt.bar(y_pos, scores, align = 'center', alpha = 0.7, width = 0.4)\n",
    "plt.xticks(y_pos, categories, fontsize = 8, rotation='vertical')\n",
    "plt.axhline(y = benchmark_result)\n",
    "plt.ylabel('Accuracy Score')\n",
    "plt.title('Performance of learning models versus benchmark for 7-day')\n",
    "plt.savefig('PerformanceModels_7_day.png')"
   ]
  },
  {
   "cell_type": "code",
   "execution_count": 39,
   "metadata": {
    "collapsed": false
   },
   "outputs": [
    {
     "data": {
      "image/png": "[encoded data removed]",
      "text/plain": [
       "<matplotlib.figure.Figure at 0x1706c7b8>"
      ]
     },
     "metadata": {},
     "output_type": "display_data"
    }
   ],
   "source": [
    "#14-day\n",
    "benchmark_result = accuracy_score(BenchmarkData['return_direction_only_14_days'], BenchmarkData['Benchmark_14_day_DirectionOnly'])\n",
    "DT = bestScoreOnTestSet_DecisionTree['14_day'][0]\n",
    "SVM_linear = bestScoreOnTestSet_SVM_linear['14_day'][0]\n",
    "SVM_rbf = bestScoreOnTestSet_SVM_rbf['14_day'][0]\n",
    "SVM_sigmoid = bestScoreOnTestSet_SVM_sigmoid['14_day'][0]\n",
    "NN_logistic = bestScoreOnTestSet_NN['14_day'][0]\n",
    "NN_tanh = bestScoreOnTestSet_NN['14_day'][1]\n",
    "NN_relu = bestScoreOnTestSet_NN['14_day'][2]\n",
    "kNN = bestScoreOnTestSet_kNN['14_day'][0]\n",
    "AdaBoost = max(results_14_day)\n",
    "categories = ['DT','SVM_linear','SVM_rbf','SVM_sigmoid','NN_logistic','NN_tanh','NN_relu','kNN','AdaBoost']\n",
    "y_pos = np.arange(len(categories))\n",
    "scores = [DT, SVM_linear, SVM_rbf, SVM_sigmoid, NN_logistic, NN_tanh, NN_relu, kNN, AdaBoost]\n",
    "plt.bar(y_pos, scores, align = 'center', alpha = 0.7, width = 0.4)\n",
    "plt.xticks(y_pos, categories, fontsize = 8, rotation='vertical')\n",
    "plt.axhline(y = benchmark_result)\n",
    "plt.ylabel('Accuracy Score')\n",
    "plt.title('Performance of learning models versus benchmark for 14-day')\n",
    "plt.savefig('PerformanceModels_14_day.png')"
   ]
  },
  {
   "cell_type": "code",
   "execution_count": null,
   "metadata": {
    "collapsed": true
   },
   "outputs": [],
   "source": []
  }
 ],
 "metadata": {
  "anaconda-cloud": {},
  "kernelspec": {
   "display_name": "Python [default]",
   "language": "python",
   "name": "python2"
  },
  "language_info": {
   "codemirror_mode": {
    "name": "ipython",
    "version": 2
   },
   "file_extension": ".py",
   "mimetype": "text/x-python",
   "name": "python",
   "nbconvert_exporter": "python",
   "pygments_lexer": "ipython2",
   "version": "2.7.12"
  }
 },
 "nbformat": 4,
 "nbformat_minor": 0
}
